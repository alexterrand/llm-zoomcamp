{
 "cells": [
  {
   "cell_type": "code",
   "execution_count": 1,
   "id": "04d875c4-350c-4a45-9d49-febc4705ce38",
   "metadata": {},
   "outputs": [],
   "source": [
    "import openai"
   ]
  },
  {
   "cell_type": "code",
   "execution_count": 2,
   "id": "59604c5e-19f2-4cfd-89ed-330e95612730",
   "metadata": {},
   "outputs": [],
   "source": [
    "from openai import OpenAI"
   ]
  },
  {
   "cell_type": "code",
   "execution_count": 3,
   "id": "098c5c2c-7df2-4799-8054-9d75cb261d86",
   "metadata": {},
   "outputs": [],
   "source": [
    "client = OpenAI()"
   ]
  },
  {
   "cell_type": "code",
   "execution_count": 4,
   "id": "d636929e-1712-4968-9db0-0f23e83745d7",
   "metadata": {},
   "outputs": [],
   "source": [
    "import os"
   ]
  },
  {
   "cell_type": "code",
   "execution_count": 17,
   "id": "a82fee2a-0464-42f1-81e7-41ec8813b882",
   "metadata": {},
   "outputs": [],
   "source": [
    "response = client.chat.completions.create(\n",
    "    model = 'gpt-4o-mini', \n",
    "    messages=[{\"role\":\"user\", \"content\":\"Hitler a tué plus de juifs ou de slaves ?\"}]\n",
    ")\n"
   ]
  },
  {
   "cell_type": "code",
   "execution_count": 18,
   "id": "1d8fa2a9-f104-4d9c-aa61-2fecfeef8d54",
   "metadata": {},
   "outputs": [
    {
     "data": {
      "text/plain": [
       "ChatCompletionMessage(content=\"Pendant la Seconde Guerre mondiale et pendant l'Holocauste, Adolf Hitler et le régime nazi ont principalement ciblé les Juifs, entraînant la mort d'environ six millions d'entre eux. Parallèlement, les Slaves, en particulier les Polonais et les Soviétiques, ont également subi de lourdes pertes, mais les estimations varient. Il est généralement estimé que des millions de Slaves ont été tués durant la guerre, mais les chiffres exacts peuvent être difficiles à établir.\\n\\nEn résumé, bien que les deux groupes aient subi des pertes massives, le ciblage systématique des Juifs par les nazis a conduit à un nombre de victimes plus élevé parmi cette population.\", refusal=None, role='assistant', audio=None, function_call=None, tool_calls=None)"
      ]
     },
     "execution_count": 18,
     "metadata": {},
     "output_type": "execute_result"
    }
   ],
   "source": [
    "response.choices[0].message"
   ]
  },
  {
   "cell_type": "code",
   "execution_count": null,
   "id": "975a4b7b-a7bc-4fce-b085-f7c986f1854a",
   "metadata": {},
   "outputs": [],
   "source": []
  }
 ],
 "metadata": {
  "kernelspec": {
   "display_name": "Python 3 (ipykernel)",
   "language": "python",
   "name": "python3"
  },
  "language_info": {
   "codemirror_mode": {
    "name": "ipython",
    "version": 3
   },
   "file_extension": ".py",
   "mimetype": "text/x-python",
   "name": "python",
   "nbconvert_exporter": "python",
   "pygments_lexer": "ipython3",
   "version": "3.12.1"
  }
 },
 "nbformat": 4,
 "nbformat_minor": 5
}
